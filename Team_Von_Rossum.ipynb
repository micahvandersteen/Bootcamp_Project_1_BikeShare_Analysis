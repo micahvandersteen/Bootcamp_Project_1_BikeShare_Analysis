{
 "cells": [
  {
   "cell_type": "code",
   "execution_count": null,
   "metadata": {},
   "outputs": [],
   "source": [
    "import pandas as pd\n",
    "import requests\n",
    "from pprint import pprint"
   ]
  },
  {
   "cell_type": "code",
   "execution_count": null,
   "metadata": {},
   "outputs": [],
   "source": [
    "# carl's code\n",
    "m_df1 = pd.read_csv(\"resources/Minneapolis/201804-niceride-tripdata.csv\")\n",
    "m_df1[\"Month\"] = \"April\"\n",
    "m_df2 = pd.read_csv(\"resources/Minneapolis/201805-niceride-tripdata.csv\")\n",
    "m_df2[\"Month\"] = \"May\"\n",
    "m_df3 = pd.read_csv(\"resources/Minneapolis/201806-niceride-tripdata.csv\")\n",
    "m_df3[\"Month\"] = \"June\"\n",
    "m_df4 = pd.read_csv(\"resources/Minneapolis/201807-niceride-tripdata.csv\")\n",
    "m_df4[\"Month\"] = \"July\"\n",
    "m_df5 = pd.read_csv(\"resources/Minneapolis/201808-niceride-tripdata.csv\")\n",
    "m_df5[\"Month\"] = \"August\"\n",
    "m_df6 = pd.read_csv(\"resources/Minneapolis/201809-niceride-tripdata.csv\")\n",
    "m_df6[\"Month\"] = \"September\"\n",
    "m_df7 = pd.read_csv(\"resources/Minneapolis/201810-niceride-tripdata.csv\")\n",
    "m_df7[\"Month\"] = \"October\"\n",
    "m_df8 = pd.read_csv(\"resources/Minneapolis/201811-niceride-tripdata.csv\")\n",
    "m_df8[\"Month\"] = \"November\""
   ]
  },
  {
   "cell_type": "code",
   "execution_count": null,
   "metadata": {},
   "outputs": [],
   "source": [
    "m_df1[\"Month\"] = \"April\"\n",
    "m_df7.head()\n",
    "m_df7.columns"
   ]
  },
  {
   "cell_type": "code",
   "execution_count": null,
   "metadata": {},
   "outputs": [],
   "source": [
    "m_df = pd.DataFrame()\n",
    "m_df = m_df1.append(m_df2).append(m_df3).append(m_df4).append(m_df5).append(m_df6).append(m_df7).append(m_df8)\n",
    "m_df.to_csv('census_output/m_bike.csv')\n",
    "m_df.tail()"
   ]
  },
  {
   "cell_type": "code",
   "execution_count": null,
   "metadata": {},
   "outputs": [],
   "source": [
    "b_df1 = pd.read_csv(\"resources/Boston/201801_hubway_tripdata.csv\")\n",
    "b_df1[\"Month\"] = \"January\"\n",
    "b_df2 = pd.read_csv(\"resources/Boston/201802_hubway_tripdata.csv\")\n",
    "b_df2[\"Month\"] = \"February\"\n",
    "b_df3 = pd.read_csv(\"resources/Boston/201803_hubway_tripdata.csv\")\n",
    "b_df3[\"Month\"] = \"March\"\n",
    "b_df4 = pd.read_csv(\"resources/Boston/201804-hubway-tripdata.csv\")\n",
    "b_df4[\"Month\"] = \"April\"\n",
    "b_df5 = pd.read_csv(\"resources/Boston/201805-bluebikes-tripdata.csv\")\n",
    "b_df5[\"Month\"] = \"May\"\n",
    "b_df6 = pd.read_csv(\"resources/Boston/201806-bluebikes-tripdata.csv\")\n",
    "b_df6[\"Month\"] = \"June\"\n",
    "b_df7 = pd.read_csv(\"resources/Boston/201807-bluebikes-tripdata.csv\")\n",
    "b_df7[\"Month\"] = \"July\"\n",
    "b_df8 = pd.read_csv(\"resources/Boston/201808-bluebikes-tripdata.csv\")\n",
    "b_df8[\"Month\"] = \"August\"\n",
    "b_df9 = pd.read_csv(\"resources/Boston/201809-bluebikes-tripdata.csv\")\n",
    "b_df9[\"Month\"] = \"September\"\n",
    "b_df10 = pd.read_csv(\"resources/Boston/201810-bluebikes-tripdata.csv\")\n",
    "b_df10[\"Month\"] = \"October\"\n",
    "b_df11 = pd.read_csv(\"resources/Boston/201811-bluebikes-tripdata.csv\")\n",
    "b_df11[\"Month\"] = \"November\"\n",
    "b_df12 = pd.read_csv(\"resources/Boston/201812-bluebikes-tripdata.csv\")\n",
    "b_df12[\"Month\"] = \"December\""
   ]
  },
  {
   "cell_type": "code",
   "execution_count": null,
   "metadata": {},
   "outputs": [],
   "source": [
    "b_df = pd.DataFrame()\n",
    "b_df = b_df1.append(b_df2).append(b_df3).append(b_df4).append(b_df5).append(b_df6).append(b_df7).append(b_df8).append(b_df9).append(b_df10).append(b_df11).append(b_df12)\n",
    "b_df.to_csv('census_output/b_bike.csv')\n",
    "b_df.head()"
   ]
  },
  {
   "cell_type": "code",
   "execution_count": null,
   "metadata": {},
   "outputs": [],
   "source": [
    "p_df1 = pd.read_csv(\"resources/Portland/2018_01.csv\")\n",
    "p_df1[\"Month\"] = \"January\"\n",
    "p_df2 = pd.read_csv(\"resources/Portland/2018_01.csv\")\n",
    "p_df2[\"Month\"] = \"February\"\n",
    "p_df3 = pd.read_csv(\"resources/Portland/2018_01.csv\")\n",
    "p_df3[\"Month\"] = \"March\"\n",
    "p_df4 = pd.read_csv(\"resources/Portland/2018_01.csv\")\n",
    "p_df4[\"Month\"] = \"April\"\n",
    "p_df5 = pd.read_csv(\"resources/Portland/2018_01.csv\")\n",
    "p_df5[\"Month\"] = \"May\"\n",
    "p_df6 = pd.read_csv(\"resources/Portland/2018_01.csv\")\n",
    "p_df6[\"Month\"] = \"June\"\n",
    "p_df7 = pd.read_csv(\"resources/Portland/2018_01.csv\")\n",
    "p_df7[\"Month\"] = \"July\"\n",
    "p_df8 = pd.read_csv(\"resources/Portland/2018_01.csv\")\n",
    "p_df8[\"Month\"] = \"August\"\n",
    "p_df9 = pd.read_csv(\"resources/Portland/2018_01.csv\")\n",
    "p_df9[\"Month\"] = \"September\"\n",
    "p_df10 = pd.read_csv(\"resources/Portland/2018_01.csv\")\n",
    "p_df10[\"Month\"] = \"October\"\n",
    "p_df11 = pd.read_csv(\"resources/Portland/2018_01.csv\")\n",
    "p_df11[\"Month\"] = \"November\"\n",
    "p_df12 = pd.read_csv(\"resources/Portland/2018_01.csv\")\n",
    "p_df12[\"Month\"] = \"December\""
   ]
  },
  {
   "cell_type": "code",
   "execution_count": null,
   "metadata": {},
   "outputs": [],
   "source": [
    "p_df = pd.DataFrame()\n",
    "p_df = p_df1.append(p_df2).append(p_df3).append(p_df4).append(p_df5).append(p_df6).append(p_df7).append(p_df8).append(p_df9).append(p_df10).append(p_df11).append(p_df12)\n",
    "p_df.to_csv('census_output/p_bike.csv')\n",
    "p_df.tail()"
   ]
  },
  {
   "cell_type": "code",
   "execution_count": null,
   "metadata": {},
   "outputs": [],
   "source": [
    "# paul's code"
   ]
  },
  {
   "cell_type": "code",
   "execution_count": null,
   "metadata": {},
   "outputs": [],
   "source": [
    "print(\"Snow Emergency.\")"
   ]
  },
  {
   "cell_type": "code",
   "execution_count": null,
   "metadata": {},
   "outputs": [],
   "source": [
    "# MICAH'S CODE SECTION \n",
    "\n",
    "# =================================================================================================\n",
    "# IDENTIFYING AND CLEANING OUR INDIVIDUAL CITY BIKE SHARE DATAFRAMES FOR OUR DATES FROM CARL'S CODE\n",
    "# =================================================================================================\n",
    "\n",
    "# PORTLAND 'BIKETOWN' BIKE SHARE INFORMATION DATAFRAME FOR 2018 ----------------------------------\n",
    "# SELECTING DESIRED COLUMNS - MONTH : 'Month', DISTANCE : 'Distance_Miles', USER TYPE : 'PaymentPlan', \n",
    "# TRIP DURATION : 'Duration' AND START DATE : 'StartDate'\n",
    "p_df_desired = p_df[[\"Month\", \"Distance_Miles\", \"PaymentPlan\", \"Duration\", \"StartDate\"]]\n",
    "\n",
    "# CLEANING DATAFRAME COLUMN NAMES FOR PORTLAND BIKE SHARE INFORMATION\n",
    "p_df_clean_m = p_df_desired.rename(columns = {\"Distance_Miles\": \"Distance Traveled (mi)\",\n",
    "                                              \"PaymentPlan\": \"User Type\",\n",
    "                                              \"Duration\" : \"Trip Duration\",\n",
    "                                              \"StartDate\" : \"Date\"})\n",
    "\n",
    "# MINNEAPOLIS 'NICERIDE' BIKE SHARE INFORMATION DATAFRAME FOR 2018 ------------------------------\n",
    "# SELECTING DESIRED COLUMNS - MONTH : 'Month', USER TYPE : 'usertype', GENDER : 'gender', TRIP DURATION : 'tripduration'\n",
    "# AND START DATE : 'start_time'\n",
    "m_df_desired = m_df[[\"Month\", \"usertype\", \"gender\", \"tripduration\", \"start_time\"]]\n",
    "\n",
    "# CLEANING DATAFRAME COLUMN NAMES FOR MINNEAPOLIS BIKE SHARE INFORMATION\n",
    "m_df_clean_m = m_df_desired.rename(columns = {\"usertype\": \"User Type\",\n",
    "                                              \"gender\": \"User Gender\",\n",
    "                                              \"tripduration\" : \"Trip Duration\",\n",
    "                                              \"start_time\" : \"Date\"})\n",
    "\n",
    "# BOSTON 'BLUEBIKES' BIKE SHARE INFORMATION DATAFRAME FOR 2018 ----------------------------------\n",
    "# SELECTING DESIRED COLUMNS - MONTH : 'Month', USER TYPE : 'usertype', GENDER : 'gender', TRIP DURATION : 'tripduration'\n",
    "# AND START DATE : 'starttime'\n",
    "b_df_desired = b_df[[\"Month\", \"usertype\", \"gender\", \"tripduration\", \"starttime\"]]\n",
    "\n",
    "# CLEANING DATAFRAME COLUMN NAMES FOR BOSTON BIKE SHARE INFORMATION\n",
    "b_df_clean_m = b_df_desired.rename(columns = {\"usertype\": \"User Type\",\n",
    "                                              \"gender\": \"User Gender\",\n",
    "                                              \"tripduration\" : \"Trip Duration\",\n",
    "                                              \"starttime\" : \"Date\"})\n"
   ]
  },
  {
   "cell_type": "code",
   "execution_count": null,
   "metadata": {},
   "outputs": [],
   "source": [
    "p_df_clean_m.head()"
   ]
  },
  {
   "cell_type": "code",
   "execution_count": null,
   "metadata": {},
   "outputs": [],
   "source": [
    "m_df_clean_m.head()"
   ]
  },
  {
   "cell_type": "code",
   "execution_count": null,
   "metadata": {},
   "outputs": [],
   "source": [
    "b_df_clean_m.head()"
   ]
  },
  {
   "cell_type": "code",
   "execution_count": null,
   "metadata": {},
   "outputs": [],
   "source": [
    "# =================================================================================================\n",
    "# GETTING HISTORICAL WEATHER DATA FROM 01 JANUARY 2018 THROUGH 31 DECEMBER 2018 (OBTAINED THROUGH NOAA)\n",
    "# =================================================================================================\n",
    "\n",
    "# READING IN .CSV FILE CALLED 'Weather-Data.csv'\n",
    "weather_data_df = pd.read_csv(\"resources/Weather-Data.csv\")\n",
    "\n",
    "# CLEANING DATAFRAME COLUMN NAMES\n",
    "weather_data_df = weather_data_df.rename( columns = {'AWND' : 'Average Wind Speed',\n",
    "                                                     'NAME' : 'Name',\n",
    "                                                     'DATE' : 'Date',\n",
    "                                                     'MDPR' : 'Multiday Precipitation Total',\n",
    "                                                     'PGTM' : 'Peak Gust Time',\n",
    "                                                     'PRCP' : 'Precipitation',\n",
    "                                                     'PSUN' : 'Daily Percent of Possible Sunshine',\n",
    "                                                     'SNOW' : 'Snowfall',\n",
    "                                                     'SNWD' : 'Snow Depth',\n",
    "                                                     'TAVG' : 'Average Temperature',\n",
    "                                                     'TMAX' : 'Maximum Temperature',\n",
    "                                                     'TMIN' : 'Minimum Temperature',\n",
    "                                                     'TOBS' : 'Temperature at Time of Observation',\n",
    "                                                     'TSUN' : 'Total Sunshine',\n",
    "                                                     'WDMV' : 'Total Wind Movement',\n",
    "                                                     'WT01' : 'Fog, Ice Fog, or Freezing Fog',\n",
    "                                                     'WT02' : 'Heavy Fog or Heaving Freezing Fog',\n",
    "                                                     'WT03' : 'Thunder',\n",
    "                                                     'WT04' : 'Ice pellets, Sleet, Snow Pellets, or Small Hail',\n",
    "                                                     'WT05' : 'Hail',\n",
    "                                                     'WT08' : 'Smoke or Haze',\n",
    "                                                     'WT09' : 'Blowing or Drifting Snow',\n",
    "                                                     'WT11' : 'High or Damaging Winds'})\n",
    "\n",
    "# FILLING NAN VALUES WITH ZEROS\n",
    "weather_data_df_cleaned = weather_data_df.fillna(0)\n",
    "\n",
    "# SELECTING ONLY COLUMNS WE WANT AND HAVE CLEANED\n",
    "weather_data_df_cleansed = weather_data_df_cleaned[[\"Name\",\n",
    "                                                    \"Date\",\n",
    "                                                    \"Average Wind Speed\",\n",
    "                                                    \"Multiday Precipitation Total\",\n",
    "                                                    \"Peak Gust Time\",\n",
    "                                                    \"Precipitation\",\n",
    "                                                    \"Daily Percent of Possible Sunshine\",\n",
    "                                                    \"Snowfall\",\n",
    "                                                    \"Snow Depth\",\n",
    "                                                    \"Average Temperature\",\n",
    "                                                    \"Maximum Temperature\",\n",
    "                                                    \"Minimum Temperature\",\n",
    "                                                    \"Temperature at Time of Observation\",\n",
    "                                                    \"Total Sunshine\",\n",
    "                                                    \"Total Wind Movement\",\n",
    "                                                    \"Fog, Ice Fog, or Freezing Fog\",\n",
    "                                                    \"Heavy Fog or Heaving Freezing Fog\",\n",
    "                                                    \"Thunder\",\n",
    "                                                    \"Ice pellets, Sleet, Snow Pellets, or Small Hail\",\n",
    "                                                    \"Hail\",\n",
    "                                                    \"Smoke or Haze\",\n",
    "                                                    \"Blowing or Drifting Snow\",\n",
    "                                                    \"High or Damaging Winds\"]]\n"
   ]
  },
  {
   "cell_type": "code",
   "execution_count": null,
   "metadata": {},
   "outputs": [],
   "source": [
    "# INITIALIZING A LIST OF OUR CITIES\n",
    "cities_m = ['boston', 'minneapolis', 'portland']\n",
    "\n",
    "# SPLITTING 'Name' COLUMN TO FIRST WORD ONLY AND PLACING IN NEW COLUMN CALLED 'city_name'\n",
    "weather_data_df_cleansed[\"city_name\"] = weather_data_df_cleansed[\"Name\"].str.split(\" \").str[0]\n",
    "\n",
    "#weather_data_df_cleansed"
   ]
  },
  {
   "cell_type": "code",
   "execution_count": null,
   "metadata": {},
   "outputs": [],
   "source": [
    "# ISOLATING OUR CITIES WEATHER\n",
    "boston_weather = weather_data_df_cleansed.loc[weather_data_df_cleansed['city_name'] == cities_m[0].upper() , :]\n",
    "minneapolis_weather = weather_data_df_cleansed.loc[weather_data_df_cleansed['city_name'] == cities_m[1].upper() , :]\n",
    "portland_weather = weather_data_df_cleansed.loc[weather_data_df_cleansed['city_name'] == cities_m[2].upper() , :]"
   ]
  },
  {
   "cell_type": "code",
   "execution_count": null,
   "metadata": {},
   "outputs": [],
   "source": [
    "# MANAGING BOSTON =================================================================================\n",
    "# MERGING BIKE SHARE AND WEATHER DATE FOR BOSTON ON DATE\n",
    "boston_merged = pd.DataFrame.merge(boston_weather, b_df_clean_m, on = 'Date', how = 'outer')\n",
    "\n",
    "# CONVERTING ALL DATES TO SAME FORMAT, PLACING IN NEW COLUMN CALLED 'Datetime'\n",
    "boston_merged[\"Datetime\"] = pd.to_datetime(boston_merged[\"Date\"]).astype(str)\n",
    "\n",
    "# \n",
    "# SEPERATING JUST THE DATE, REMOVING THE TIME FROM 'Datetime' COLUMN\n",
    "boston_merged[\"Day\"] = boston_merged[\"Datetime\"].str.split(\" \").str[0]"
   ]
  },
  {
   "cell_type": "code",
   "execution_count": null,
   "metadata": {},
   "outputs": [],
   "source": [
    "# MANAGING MINNEAPOLIS =================================================================================\n",
    "# MERGING BIKE SHARE AND WEATHER DATE FOR BOSTON ON DATE\n",
    "minneapolis_merged = pd.DataFrame.merge(minneapolis_weather, m_df_clean_m, on = 'Date', how = 'outer')\n",
    "\n",
    "# CONVERTING ALL DATES TO SAME FORMAT, PLACING IN NEW COLUMN CALLED 'Datetime'\n",
    "minneapolis_merged[\"Datetime\"] = pd.to_datetime(minneapolis_merged[\"Date\"]).astype(str)\n",
    "\n",
    "# \n",
    "# SEPERATING JUST THE DATE, REMOVING THE TIME FROM 'Datetime' COLUMN\n",
    "minneapolis_merged[\"Day\"] = minneapolis_merged[\"Datetime\"].str.split(\" \").str[0]"
   ]
  },
  {
   "cell_type": "code",
   "execution_count": null,
   "metadata": {},
   "outputs": [],
   "source": [
    "# MANAGING PORTLAND =================================================================================\n",
    "# MERGING BIKE SHARE AND WEATHER DATE FOR BOSTON ON DATE\n",
    "portland_merged = pd.DataFrame.merge(portland_weather, p_df_clean_m, on = 'Date', how = 'outer')\n",
    "\n",
    "# CONVERTING ALL DATES TO SAME FORMAT, PLACING IN NEW COLUMN CALLED 'Datetime'\n",
    "portland_merged[\"Datetime\"] = pd.to_datetime(portland_merged[\"Date\"]).astype(str)\n",
    "\n",
    "# SEPERATING JUST THE DATE, REMOVING THE TIME FROM 'Datetime' COLUMN\n",
    "portland_merged[\"Day\"] = portland_merged[\"Datetime\"].str.split(\" \").str[0]"
   ]
  },
  {
   "cell_type": "code",
   "execution_count": null,
   "metadata": {},
   "outputs": [],
   "source": [
    "# plotting some portland data\n",
    "import matplotlib.pyplot as plt\n",
    "import numpy as np\n",
    "\n",
    "# DEFINING LIST OF USER TYPES\n",
    "user_types_p = [\"Subscriber\" , \"Casual\"]\n",
    "\n",
    "# AVERAGE DISTRANCE TRAVELED FOR EACH GROUP OF USER CLASSIFICATIONS IN PORTALND FOR ENTIRE YEAR\n",
    "average_annual_distance_by_user_type_p = portland_merged.groupby([\"User Type\"])[\"Distance Traveled (mi)\"].mean()\n",
    "\n",
    "# TOTAL DISTANCE TRAVLED BY USER TYPES OVER THE YEAR IN PORTLAND\n",
    "total_distance_by_user_type_p = portland_merged.groupby([\"User Type\"])[\"Distance Traveled (mi)\"].sum()\n",
    "\n",
    "# COUNT OF HOW MANY RIDES WERE TAKEN FOR USER TYPES THERE ARE IN PORTLAND\n",
    "rides_per_user_type_p = portland_merged[\"User Type\"].value_counts()\n",
    "\n",
    "# PLOTTING RIDE COUNT PER USER TYPE IN PORTLAND\n",
    "plt.bar(user_types_p, rides_per_user_type_p, color = 'black')\n",
    "plt.title('Number of Rides Taken in Portland, OR per User Type in 2018')\n",
    "plt.xlabel('User Type')\n",
    "plt.ylabel('Number of Rides')\n",
    "plt.savefig(\"Images/number_rides_user_portland.png\")\n",
    "plt.show()\n",
    "\n",
    "# switching list order for next bar graphs\n",
    "user_type_casual_first = [\"Casual\", \"Subscriber\"]\n",
    "\n",
    "# plotting subscriber type vs mean distance traveled per trip\n",
    "plt.bar(user_type_casual_first, average_annual_distance_by_user_type_p, color = 'black')\n",
    "plt.title('Average Trip Distance Traveled per Subscriber Type in Portland, OR during 2018')\n",
    "plt.xlabel('Subscriber Type')\n",
    "plt.ylabel('Distance Traveled (mi)')\n",
    "plt.savefig(\"Images/mean_distance_per_user_portland.png\")\n",
    "plt.show()\n",
    "\n",
    "# # plotting subscriber type vs total distance traveled \n",
    "plt.bar(user_type_casual_first, total_distance_by_user_type_p, color = 'black')\n",
    "plt.title('Total Distance Traveled per Subscriber Type in Portland, OR during 2018')\n",
    "plt.xlabel('Subscriber Type')\n",
    "plt.ylabel('Distance Traveled (mi)')\n",
    "plt.savefig(\"Images/total_distance_per_user_portland.png\")\n",
    "plt.show()"
   ]
  },
  {
   "cell_type": "code",
   "execution_count": null,
   "metadata": {},
   "outputs": [],
   "source": [
    "# LOOKING AT MINNEAPOLIS USER TYPE DATA\n",
    "\n",
    "# GET DISTANCE BETWEEN LATITUDE AND LONGITUDE POINTS FOR MINNEAPOLIS RIDES\n",
    "from geopy import distance\n",
    "\n",
    "m_start_lat = list(m_df[\"start station latitude\"])\n",
    "m_start_lng = list(m_df[\"start station longitude\"])\n",
    "m_end_lat = list(m_df[\"end station latitude\"])\n",
    "m_end_lng = list(m_df[\"end station longitude\"])\n",
    "\n",
    "i = 0 \n",
    "\n",
    "minneapolis_trip_distances = []\n",
    "\n",
    "for i in np.arange(len(m_start_lat)):\n",
    "    \n",
    "    minneapolis_trip_distances.append(distance.distance((m_start_lat[i], m_start_lng[i]), (m_end_lat[i], m_end_lng[i])).miles)\n",
    "   \n",
    "    i += 1\n"
   ]
  },
  {
   "cell_type": "code",
   "execution_count": null,
   "metadata": {},
   "outputs": [],
   "source": [
    "# ADD TRIP DISTANCES COLUMN TO THE MINNEAPOLIS BIKE SHARE DATAFRAME\n",
    "m_df_clean_m[\"Distance Traveled (mi)\"] = minneapolis_trip_distances\n",
    "\n",
    "# AVERAGE DISTRANCE TRAVELED FOR EACH GROUP OF USER CLASSIFICATIONS IN MINEAPOLIS FOR ENTIRE 2018\n",
    "average_annual_distance_by_user_type_m = m_df_clean_m.groupby([\"User Type\"])[\"Distance Traveled (mi)\"].mean()\n",
    "\n",
    "# TOTAL DISTANCE TRAVLED BY USER TYPES OVER THE YEAR IN PORTLAND\n",
    "total_distance_by_user_type_m = m_df_clean_m.groupby([\"User Type\"])[\"Distance Traveled (mi)\"].sum()\n",
    "\n",
    "# COUNT OF HOW MANY RIDES WERE TAKEN FOR USER TYPES THERE ARE IN PORTLAND\n",
    "rides_per_user_type_m = m_df_clean_m[\"User Type\"].value_counts()\n",
    "\n",
    "user_type_list_m = list(m_df_clean_m[\"User Type\"].unique())\n"
   ]
  },
  {
   "cell_type": "code",
   "execution_count": null,
   "metadata": {},
   "outputs": [],
   "source": [
    "# PLOTTING MINNEAPOLIS USER TYPE COMPARISONS\n",
    "# PLOTTING RIDE COUNT PER USER TYPE IN MINNEAPOLIS\n",
    "plt.bar(user_type_list_m, rides_per_user_type_m, color = 'black')\n",
    "plt.title('Number of Rides Taken in Minneapolis, MN by User Type in 2018')\n",
    "plt.xlabel('User Type')\n",
    "plt.ylabel('Number of Rides')\n",
    "plt.savefig(\"Images/number_rides_user_minneapolis.png\")\n",
    "plt.show()\n",
    "\n",
    "# plotting subscriber type vs mean distance traveled per trip\n",
    "plt.bar(user_type_list_m, average_annual_distance_by_user_type_m, color = 'black')\n",
    "plt.title('Average Trip Distance Traveled by User Type in Minneapolis, MN during 2018')\n",
    "plt.xlabel('User Type')\n",
    "plt.ylabel('Distance Traveled (mi)')\n",
    "plt.savefig(\"Images/mean_distance_per_user_minneapolis.png\")\n",
    "plt.show()\n",
    "\n",
    "# # plotting subscriber type vs total distance traveled \n",
    "plt.bar(user_type_list_m, total_distance_by_user_type_m, color = 'black')\n",
    "plt.title('Total Distance Traveled by User Type in Minneapolis, MN during 2018')\n",
    "plt.xlabel('User Type')\n",
    "plt.ylabel('Distance Traveled (mi)')\n",
    "plt.savefig(\"Images/total_distance_per_user_minneapolis.png\")\n",
    "plt.show()"
   ]
  },
  {
   "cell_type": "code",
   "execution_count": null,
   "metadata": {},
   "outputs": [],
   "source": [
    "# GET DISTANCE BETWEEN START AND END GEO-COORDINATES FOR BOSTON RIDES\n",
    "\n",
    "b_start_lat = list(b_df[\"start station latitude\"])\n",
    "b_start_lng = list(b_df[\"start station longitude\"])\n",
    "b_end_lat = list(b_df[\"end station latitude\"])\n",
    "b_end_lng = list(b_df[\"end station longitude\"])\n",
    "\n",
    "i = 0 \n",
    "\n",
    "boston_trip_distances = []\n",
    "\n",
    "for i in np.arange(len(b_start_lat)):\n",
    "    \n",
    "    boston_trip_distances.append(distance.distance((b_start_lat[i], b_start_lng[i]), (b_end_lat[i], b_end_lng[i])).miles)\n",
    "   \n",
    "    i += 1\n"
   ]
  },
  {
   "cell_type": "code",
   "execution_count": null,
   "metadata": {},
   "outputs": [],
   "source": [
    "# ADD TRIP DISTANCES COLUMN TO THE MINNEAPOLIS BIKE SHARE DATAFRAME\n",
    "b_df_clean_m[\"Distance Traveled (mi)\"] = boston_trip_distances\n",
    "\n",
    "# AVERAGE DISTRANCE TRAVELED FOR EACH GROUP OF USER CLASSIFICATIONS IN MINEAPOLIS FOR ENTIRE 2018\n",
    "average_annual_distance_by_user_type_b = b_df_clean_m.groupby([\"User Type\"])[\"Distance Traveled (mi)\"].mean()\n",
    "\n",
    "# TOTAL DISTANCE TRAVLED BY USER TYPES OVER THE YEAR IN PORTLAND\n",
    "total_distance_by_user_type_b = b_df_clean_m.groupby([\"User Type\"])[\"Distance Traveled (mi)\"].sum()\n",
    "\n",
    "# COUNT OF HOW MANY RIDES WERE TAKEN FOR USER TYPES THERE ARE IN PORTLAND\n",
    "rides_per_user_type_b = b_df_clean_m[\"User Type\"].value_counts()\n",
    "\n",
    "user_type_list_b = list(b_df_clean_m[\"User Type\"].unique())\n"
   ]
  },
  {
   "cell_type": "code",
   "execution_count": null,
   "metadata": {},
   "outputs": [],
   "source": [
    "# PLOTTING USER TYPE TRIP RELATIONSHIPS FOR BOSTON RIDES IN 2018 \n",
    "# PLOTTING RIDE COUNT PER USER TYPE IN BOSTON\n",
    "plt.bar(user_type_list_b, rides_per_user_type_b, color = 'black')\n",
    "plt.title('Number of Rides Taken in Boston, MA by User Type in 2018')\n",
    "plt.xlabel('User Type')\n",
    "plt.ylabel('Number of Rides')\n",
    "plt.savefig(\"Images/number_rides_user_boston.png\")\n",
    "plt.show()\n",
    "\n",
    "# plotting subscriber type vs mean distance traveled per trip\n",
    "plt.bar(user_type_list_b, average_annual_distance_by_user_type_b, color = 'black')\n",
    "plt.title('Average Trip Distance Traveled by User Type in Boston, MA during 2018')\n",
    "plt.xlabel('User Type')\n",
    "plt.ylabel('Distance Traveled (mi)')\n",
    "plt.savefig(\"Images/mean_distance_per_user_boston.png\")\n",
    "plt.show()\n",
    "\n",
    "# # plotting subscriber type vs total distance traveled \n",
    "plt.bar(user_type_list_m, total_distance_by_user_type_m, color = 'black')\n",
    "plt.title('Total Distance Traveled by User Type in Boston, MA during 2018')\n",
    "plt.xlabel('User Type')\n",
    "plt.ylabel('Distance Traveled (mi)')\n",
    "plt.savefig(\"Images/total_distance_per_user_boston.png\")\n",
    "plt.show()"
   ]
  },
  {
   "cell_type": "code",
   "execution_count": null,
   "metadata": {},
   "outputs": [],
   "source": [
    "# COMPARING RIDES BY MONTH ===============================================\n",
    "\n",
    "# DEFINING ACTIVE MONTHS LIST FOR EACH CITY\n",
    "active_months_mpls = list(m_df_clean_m[\"Month\"].unique())\n",
    "active_months_boston = list(b_df_clean_m[\"Month\"].unique())\n",
    "active_months_portland = list(p_df_clean_m[\"Month\"].unique())\n",
    "\n",
    "# DEFINING RIDES PER MONTH\n",
    "monthly_rides_m = m_df_clean_m.groupby(\"Month\", sort = False)[\"User Type\"].count()\n",
    "monthly_rides_b = b_df_clean_m.groupby(\"Month\", sort = False)[\"User Type\"].count()\n",
    "monthly_rides_p = p_df_clean_m.groupby(\"Month\", sort = False)[\"User Type\"].count()\n",
    "\n",
    "# PLOTTING RIDES PER MONTH FOR EACH CITY\n",
    "# MINNEAPOLIS RIDES PER MONTH BAR GRAPH\n",
    "plt.bar(active_months_mpls, monthly_rides_m, color = 'black')\n",
    "plt.title('Number of Rides Taken per Month in Minneapolis, MN in 2018')\n",
    "plt.xticks(rotation = 45)\n",
    "plt.xlabel('Month')\n",
    "plt.ylabel('Number of Rides')\n",
    "plt.savefig(\"Images/number_rides_per_month_mpls.png\")\n",
    "plt.show()\n",
    "\n",
    "# BOSTON RIDES PER MONTH BAR GRAPH\n",
    "plt.bar(active_months_boston, monthly_rides_b, color = 'black')\n",
    "plt.title('Number of Rides Taken per Month in Boston, MA in 2018')\n",
    "plt.xticks(rotation = 45)\n",
    "plt.xlabel('Month')\n",
    "plt.ylabel('Number of Rides')\n",
    "plt.savefig(\"Images/number_rides_per_month_boston.png\")\n",
    "plt.show()\n",
    "\n",
    "# PORTLAND RIDES PER MONTH BAR GRAPH\n",
    "plt.bar(active_months_portland, monthly_rides_p, color = 'black')\n",
    "plt.title('Number of Rides Taken per Month in Portland, OR in 2018')\n",
    "plt.xticks(rotation = 45)\n",
    "plt.xlabel('Month')\n",
    "plt.ylabel('Number of Rides')\n",
    "plt.savefig(\"Images/number_rides_per_month_portland.png\")\n",
    "plt.show()\n"
   ]
  },
  {
   "cell_type": "code",
   "execution_count": null,
   "metadata": {},
   "outputs": [],
   "source": [
    "# TESTING EACH RIDES BY MONTH SET FOR NORMAL DISTRIBUTION USING scipy.stats.normaltest() ======================================\n",
    "# If p value is >= .5 , data is normal (support null hypothesis)\n",
    "import scipy.stats as sts\n",
    "\n",
    "# minneapolis normal test\n",
    "m_normal_test = sts.normaltest(monthly_rides_m)\n",
    "\n",
    "# boston normal test\n",
    "b_normal_test = sts.normaltest(monthly_rides_b)\n",
    "\n",
    "# portland normal test\n",
    "p_normal_test = sts.normaltest(monthly_rides_p)\n",
    "\n",
    "# print statement sumamrizing normal tests for rides per month across the three cities\n",
    "print(f\"\"\"The p-value for Minneapolis' rides per month data is: {m_normal_test[1]}.\n",
    "The p-value for Boston's rides per month data is: {b_normal_test[1]}.\n",
    "The p-value for Portland's rides per month data is: {p_normal_test[1]}\"\"\")\n"
   ]
  },
  {
   "cell_type": "code",
   "execution_count": null,
   "metadata": {},
   "outputs": [],
   "source": [
    "# check for ridership in rain\n",
    "portland_rain = portland_merged.loc[(portland_merged[\"Precipitation\"] > 0) & ((portland_merged['User Type'] == 'Subscriber') | (portland_merged['User Type'] == 'Casual')), :]\n",
    "minneapolis_rain = minneapolis_merged.loc[(minneapolis_merged[\"Precipitation\"] > 0) & ((minneapolis_merged['User Type'] == 'Subscriber') | (minneapolis_merged['User Type'] == 'Customer')), :]\n",
    "boston_rain = boston_merged.loc[(boston_merged[\"Precipitation\"] > 0) & ((boston_merged['User Type'] == 'Subscriber') | (boston_merged['User Type'] == 'Customer')), :]\n",
    "\n",
    "print(f\"Number of riders who rode in the rain in Portland: {len(portland_rain)}, in Minneapolis: {len(minneapolis_rain)}, and in Boston: {len(boston_rain)}\")"
   ]
  },
  {
   "cell_type": "code",
   "execution_count": null,
   "metadata": {},
   "outputs": [],
   "source": [
    "# check for ridership in high winds\n",
    "portland_wind = portland_merged.loc[(portland_merged[\"High or Damaging Winds\"] > 0) & ((portland_merged['User Type'] == 'Subscriber') | (portland_merged['User Type'] == 'Casual')), :]\n",
    "minneapolis_wind = minneapolis_merged.loc[(minneapolis_merged[\"High or Damaging Winds\"] > 0) & ((minneapolis_merged['User Type'] == 'Subscriber') | (minneapolis_merged['User Type'] == 'Customer')), :]\n",
    "boston_wind = boston_merged.loc[(boston_merged[\"High or Damaging Winds\"] > 0) & ((boston_merged['User Type'] == 'Subscriber') | (boston_merged['User Type'] == 'Customer')), :]\n",
    "\n",
    "print(f\"Number of riders who rode through high winds in Portland: {len(portland_wind)}, in Minneapolis: {len(minneapolis_wind)}, and in Boston: {len(boston_wind)}\")"
   ]
  },
  {
   "cell_type": "code",
   "execution_count": null,
   "metadata": {},
   "outputs": [],
   "source": [
    "portland_merged.describe()"
   ]
  },
  {
   "cell_type": "code",
   "execution_count": null,
   "metadata": {},
   "outputs": [],
   "source": [
    "minneapolis_merged.describe()"
   ]
  },
  {
   "cell_type": "code",
   "execution_count": null,
   "metadata": {},
   "outputs": [],
   "source": [
    "boston_merged.describe()"
   ]
  }
 ],
 "metadata": {
  "kernelspec": {
   "display_name": "Python 3",
   "language": "python",
   "name": "python3"
  },
  "language_info": {
   "codemirror_mode": {
    "name": "ipython",
    "version": 3
   },
   "file_extension": ".py",
   "mimetype": "text/x-python",
   "name": "python",
   "nbconvert_exporter": "python",
   "pygments_lexer": "ipython3",
   "version": "3.6.9"
  }
 },
 "nbformat": 4,
 "nbformat_minor": 4
}
