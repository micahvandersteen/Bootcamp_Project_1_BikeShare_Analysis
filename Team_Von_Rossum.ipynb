{
 "cells": [
  {
   "cell_type": "code",
   "execution_count": null,
   "metadata": {},
   "outputs": [],
   "source": [
    "import pandas as pd\n",
    "import requests\n",
    "from pprint import pprint\n",
    "%matplotlib notebook\n",
    "import matplotlib.pyplot as plt\n",
    "import numpy as np"
   ]
  },
  {
   "cell_type": "code",
   "execution_count": null,
   "metadata": {},
   "outputs": [],
   "source": [
    "# carl's code\n",
    "m_df1 = pd.read_csv(\"resources/Minneapolis/201804-niceride-tripdata.csv\")\n",
    "m_df1[\"Month\"] = \"April\"\n",
    "m_df2 = pd.read_csv(\"resources/Minneapolis/201805-niceride-tripdata.csv\")\n",
    "m_df2[\"Month\"] = \"May\"\n",
    "m_df3 = pd.read_csv(\"resources/Minneapolis/201806-niceride-tripdata.csv\")\n",
    "m_df3[\"Month\"] = \"June\"\n",
    "m_df4 = pd.read_csv(\"resources/Minneapolis/201807-niceride-tripdata.csv\")\n",
    "m_df4[\"Month\"] = \"July\"\n",
    "m_df5 = pd.read_csv(\"resources/Minneapolis/201808-niceride-tripdata.csv\")\n",
    "m_df5[\"Month\"] = \"August\"\n",
    "m_df6 = pd.read_csv(\"resources/Minneapolis/201809-niceride-tripdata.csv\")\n",
    "m_df6[\"Month\"] = \"September\"\n",
    "m_df7 = pd.read_csv(\"resources/Minneapolis/201810-niceride-tripdata.csv\")\n",
    "m_df7[\"Month\"] = \"October\"\n",
    "m_df8 = pd.read_csv(\"resources/Minneapolis/201811-niceride-tripdata.csv\")\n",
    "m_df8[\"Month\"] = \"November\""
   ]
  },
  {
   "cell_type": "code",
   "execution_count": null,
   "metadata": {},
   "outputs": [],
   "source": [
    "m_df1[\"Month\"] = \"April\"\n",
    "m_df7.head()\n",
    "m_df7.columns"
   ]
  },
  {
   "cell_type": "code",
   "execution_count": null,
   "metadata": {},
   "outputs": [],
   "source": [
    "m_df = pd.DataFrame()\n",
    "m_df = m_df1.append(m_df2).append(m_df3).append(m_df4).append(m_df5).append(m_df6).append(m_df7).append(m_df8)\n",
    "m_df.to_csv('census_output/m_bike.csv')\n",
    "m_df.tail()"
   ]
  },
  {
   "cell_type": "code",
   "execution_count": null,
   "metadata": {},
   "outputs": [],
   "source": [
    "b_df1 = pd.read_csv(\"resources/Boston/201801_hubway_tripdata.csv\")\n",
    "b_df1[\"Month\"] = \"January\"\n",
    "b_df2 = pd.read_csv(\"resources/Boston/201802_hubway_tripdata.csv\")\n",
    "b_df2[\"Month\"] = \"February\"\n",
    "b_df3 = pd.read_csv(\"resources/Boston/201803_hubway_tripdata.csv\")\n",
    "b_df3[\"Month\"] = \"March\"\n",
    "b_df4 = pd.read_csv(\"resources/Boston/201804-hubway-tripdata.csv\")\n",
    "b_df4[\"Month\"] = \"April\"\n",
    "b_df5 = pd.read_csv(\"resources/Boston/201805-bluebikes-tripdata.csv\")\n",
    "b_df5[\"Month\"] = \"May\"\n",
    "b_df6 = pd.read_csv(\"resources/Boston/201806-bluebikes-tripdata.csv\")\n",
    "b_df6[\"Month\"] = \"June\"\n",
    "b_df7 = pd.read_csv(\"resources/Boston/201807-bluebikes-tripdata.csv\")\n",
    "b_df7[\"Month\"] = \"July\"\n",
    "b_df8 = pd.read_csv(\"resources/Boston/201808-bluebikes-tripdata.csv\")\n",
    "b_df8[\"Month\"] = \"August\"\n",
    "b_df9 = pd.read_csv(\"resources/Boston/201809-bluebikes-tripdata.csv\")\n",
    "b_df9[\"Month\"] = \"September\"\n",
    "b_df10 = pd.read_csv(\"resources/Boston/201810-bluebikes-tripdata.csv\")\n",
    "b_df10[\"Month\"] = \"October\"\n",
    "b_df11 = pd.read_csv(\"resources/Boston/201811-bluebikes-tripdata.csv\")\n",
    "b_df11[\"Month\"] = \"November\"\n",
    "b_df12 = pd.read_csv(\"resources/Boston/201812-bluebikes-tripdata.csv\")\n",
    "b_df12[\"Month\"] = \"December\""
   ]
  },
  {
   "cell_type": "code",
   "execution_count": null,
   "metadata": {},
   "outputs": [],
   "source": [
    "b_df = pd.DataFrame()\n",
    "b_df = b_df1.append(b_df2).append(b_df3).append(b_df4).append(b_df5).append(b_df6).append(b_df7).append(b_df8).append(b_df9).append(b_df10).append(b_df11).append(b_df12)\n",
    "b_df.to_csv('census_output/b_bike.csv')\n",
    "b_df.head()"
   ]
  },
  {
   "cell_type": "code",
   "execution_count": null,
   "metadata": {},
   "outputs": [],
   "source": [
    "p_df1 = pd.read_csv(\"resources/Portland/2018_01.csv\")\n",
    "p_df1[\"Month\"] = \"January\"\n",
    "p_df2 = pd.read_csv(\"resources/Portland/2018_01.csv\")\n",
    "p_df2[\"Month\"] = \"February\"\n",
    "p_df3 = pd.read_csv(\"resources/Portland/2018_01.csv\")\n",
    "p_df3[\"Month\"] = \"March\"\n",
    "p_df4 = pd.read_csv(\"resources/Portland/2018_01.csv\")\n",
    "p_df4[\"Month\"] = \"April\"\n",
    "p_df5 = pd.read_csv(\"resources/Portland/2018_01.csv\")\n",
    "p_df5[\"Month\"] = \"May\"\n",
    "p_df6 = pd.read_csv(\"resources/Portland/2018_01.csv\")\n",
    "p_df6[\"Month\"] = \"June\"\n",
    "p_df7 = pd.read_csv(\"resources/Portland/2018_01.csv\")\n",
    "p_df7[\"Month\"] = \"July\"\n",
    "p_df8 = pd.read_csv(\"resources/Portland/2018_01.csv\")\n",
    "p_df8[\"Month\"] = \"August\"\n",
    "p_df9 = pd.read_csv(\"resources/Portland/2018_01.csv\")\n",
    "p_df9[\"Month\"] = \"September\"\n",
    "p_df10 = pd.read_csv(\"resources/Portland/2018_01.csv\")\n",
    "p_df10[\"Month\"] = \"October\"\n",
    "p_df11 = pd.read_csv(\"resources/Portland/2018_01.csv\")\n",
    "p_df11[\"Month\"] = \"November\"\n",
    "p_df12 = pd.read_csv(\"resources/Portland/2018_01.csv\")\n",
    "p_df12[\"Month\"] = \"December\""
   ]
  },
  {
   "cell_type": "code",
   "execution_count": null,
   "metadata": {},
   "outputs": [],
   "source": [
    "p_df = pd.DataFrame()\n",
    "p_df = p_df1.append(p_df2).append(p_df3).append(p_df4).append(p_df5).append(p_df6).append(p_df7).append(p_df8).append(p_df9).append(p_df10).append(p_df11).append(p_df12)\n",
    "p_df.to_csv('census_output/p_bike.csv')\n",
    "p_df.tail()"
   ]
  },
  {
   "cell_type": "code",
   "execution_count": null,
   "metadata": {},
   "outputs": [],
   "source": [
    "# paul's code"
   ]
  },
  {
   "cell_type": "code",
   "execution_count": null,
   "metadata": {},
   "outputs": [],
   "source": [
    "msp = m_df[['start_time']]\n",
    "msp['Date'] = pd.to_datetime(msp['start_time']).dt.date\n",
    "msp['Time'] = pd.to_datetime(msp['start_time']).dt.hour.astype(int)\n",
    "msp_time = msp[['Date', 'Time']].dropna()\n",
    "bins = [-1, 2, 5, 8, 11, 14, 17, 20, 23]\n",
    "group_names = ['12am-3am', '3am-6am', '6am-9am', '9am-12pm', '12pm-3pm', '3pm-6pm', '6pm-9pm', '9pm-12am']\n",
    "msp_time['3-Hour Window'] = pd.cut(msp_time['Time'], bins, labels=group_names)\n",
    "msp_time['3-Hour Window'].value_counts()"
   ]
  },
  {
   "cell_type": "code",
   "execution_count": null,
   "metadata": {},
   "outputs": [],
   "source": []
  },
  {
   "cell_type": "code",
   "execution_count": null,
   "metadata": {},
   "outputs": [],
   "source": [
    "bos = b_df[['starttime']]\n",
    "bos['Date'] = pd.to_datetime(bos['starttime']).dt.date\n",
    "bos['Time'] = pd.to_datetime(bos['starttime']).dt.hour.astype(int)\n",
    "bos_time = bos[['Date', 'Time']].dropna()\n",
    "bins = [-1, 2, 5, 8, 11, 14, 17, 20, 23]\n",
    "group_names = ['12am-3am', '3am-6am', '6am-9am', '9am-12pm', '12pm-3pm', '3pm-6pm', '6pm-9pm', '9pm-12am']\n",
    "bos_time['3-Hour Window'] = pd.cut(bos_time['Time'], bins, labels=group_names)\n",
    "bos_time['3-Hour Window'].value_counts()"
   ]
  },
  {
   "cell_type": "code",
   "execution_count": null,
   "metadata": {},
   "outputs": [],
   "source": []
  },
  {
   "cell_type": "code",
   "execution_count": null,
   "metadata": {},
   "outputs": [],
   "source": [
    "por_time = p_df[['StartDate', 'StartTime']]\n",
    "por_time['Time'] = pd.to_datetime(por_time['StartTime']).dt.hour.astype(int)\n",
    "por_time = por_time[['StartDate', 'Time']].dropna()\n",
    "bins = [-1, 2, 5, 8, 11, 14, 17, 20, 23]\n",
    "group_names = ['12am-3am', '3am-6am', '6am-9am', '9am-12pm', '12pm-3pm', '3pm-6pm', '6pm-9pm', '9pm-12am']\n",
    "por_time['3-Hour Window'] = pd.cut(por_time['Time'], bins, labels=group_names)\n",
    "por_time['3-Hour Window'].value_counts()"
   ]
  },
  {
   "cell_type": "code",
   "execution_count": null,
   "metadata": {},
   "outputs": [],
   "source": []
  },
  {
   "cell_type": "code",
   "execution_count": null,
   "metadata": {},
   "outputs": [],
   "source": [
    "# MICAH'S CODE SECTION \n",
    "\n",
    "# =================================================================================================\n",
    "# IDENTIFYING AND CLEANING OUR INDIVIDUAL CITY BIKE SHARE DATAFRAMES FOR OUR DATES FROM CARL'S CODE\n",
    "# =================================================================================================\n",
    "\n",
    "# PORTLAND 'BIKETOWN' BIKE SHARE INFORMATION DATAFRAME FOR 2018 ----------------------------------\n",
    "# SELECTING DESIRED COLUMNS - MONTH : 'Month', DISTANCE : 'Distance_Miles', USER TYPE : 'PaymentPlan', \n",
    "# TRIP DURATION : 'Duration' AND START DATE : 'StartDate'\n",
    "p_df_desired = p_df[[\"Month\", \"Distance_Miles\", \"PaymentPlan\", \"Duration\", \"StartDate\"]]\n",
    "\n",
    "# CLEANING DATAFRAME COLUMN NAMES FOR PORTLAND BIKE SHARE INFORMATION\n",
    "p_df_clean_m = p_df_desired.rename(columns = {\"Distance_Miles\": \"Distance Traveled (mi)\",\n",
    "                                              \"PaymentPlan\": \"User Type\",\n",
    "                                              \"Duration\" : \"Trip Duration\",\n",
    "                                              \"StartDate\" : \"Trip Date\"})\n",
    "\n",
    "# MINNEAPOLIS 'NICERIDE' BIKE SHARE INFORMATION DATAFRAME FOR 2018 ------------------------------\n",
    "# SELECTING DESIRED COLUMNS - MONTH : 'Month', USER TYPE : 'usertype', GENDER : 'gender', TRIP DURATION : 'tripduration'\n",
    "# AND START DATE : 'start_time'\n",
    "m_df_desired = m_df[[\"Month\", \"usertype\", \"gender\", \"tripduration\", \"start_time\"]]\n",
    "\n",
    "# CLEANING DATAFRAME COLUMN NAMES FOR MINNEAPOLIS BIKE SHARE INFORMATION\n",
    "m_df_clean_m = m_df_desired.rename(columns = {\"usertype\": \"User Type\",\n",
    "                                              \"gender\": \"User Gender\",\n",
    "                                              \"tripduration\" : \"Trip Duration\",\n",
    "                                              \"start_time\" : \"Trip Date\"})\n",
    "\n",
    "# BOSTON 'BLUEBIKES' BIKE SHARE INFORMATION DATAFRAME FOR 2018 ----------------------------------\n",
    "# SELECTING DESIRED COLUMNS - MONTH : 'Month', USER TYPE : 'usertype', GENDER : 'gender', TRIP DURATION : 'tripduration'\n",
    "# AND START DATE : 'starttime'\n",
    "b_df_desired = b_df[[\"Month\", \"usertype\", \"gender\", \"tripduration\", \"starttime\"]]\n",
    "\n",
    "# CLEANING DATAFRAME COLUMN NAMES FOR BOSTON BIKE SHARE INFORMATION\n",
    "b_df_clean_m = b_df_desired.rename(columns = {\"usertype\": \"User Type\",\n",
    "                                              \"gender\": \"User Gender\",\n",
    "                                              \"tripduration\" : \"Trip Duration\",\n",
    "                                              \"starttime\" : \"Trip Date\"})\n"
   ]
  },
  {
   "cell_type": "code",
   "execution_count": null,
   "metadata": {},
   "outputs": [],
   "source": [
    "p_df_clean_m.head()"
   ]
  },
  {
   "cell_type": "code",
   "execution_count": null,
   "metadata": {},
   "outputs": [],
   "source": [
    "m_df_clean_m.head()"
   ]
  },
  {
   "cell_type": "code",
   "execution_count": null,
   "metadata": {},
   "outputs": [],
   "source": [
    "b_df_clean_m.head()"
   ]
  },
  {
   "cell_type": "code",
   "execution_count": null,
   "metadata": {},
   "outputs": [],
   "source": [
    "# =================================================================================================\n",
    "# GETTING HISTORICAL WEATHER DATA FROM 01 JANUARY 2018 THROUGH 31 DECEMBER 2018 (OBTAINED THROUGH NOAA)\n",
    "# =================================================================================================\n",
    "\n",
    "# READING IN .CSV FILE CALLED 'Weather-Data.csv'\n",
    "weather_data_df = pd.read_csv(\"resources/Weather-Data.csv\")\n",
    "\n",
    "weather_data_df\n",
    "\n",
    "# CLEANING DATAFRAME COLUMN NAMES\n",
    "weather_data_df = weather_data_df.rename( columns = {'AWND' : 'Average Wind Speed',\n",
    "                                                     'NAME' : 'Name',\n",
    "                                                     'DATE' : 'Date',\n",
    "                                                     'MDPR' : 'Multiday Precipitation Total',\n",
    "                                                     'PGTM' : 'Peak Gust Time',\n",
    "                                                     'PRCP' : 'Precipitation',\n",
    "                                                     'PSUN' : 'Daily Percent of Possible Sunshine',\n",
    "                                                     'SNOW' : 'Snowfall',\n",
    "                                                     'SNWD' : 'Snow Depth',\n",
    "                                                     'TAVG' : 'Average Temperature',\n",
    "                                                     'TMAX' : 'Maximum Temperature',\n",
    "                                                     'TMIN' : 'Minimum Temperature',\n",
    "                                                     'TOBS' : 'Temperature at Time of Observation',\n",
    "                                                     'TSUN' : 'Total Sunshine',\n",
    "                                                     'WDMV' : 'Total Wind Movement',\n",
    "                                                     'WT01' : 'Fog, Ice Fog, or Freezing Fog',\n",
    "                                                     'WT02' : 'Heavy Fog or Heaving Freezing Fog',\n",
    "                                                     'WT03' : 'Thunder',\n",
    "                                                     'WT04' : 'Ice pellets, Sleet, Snow Pellets, or Small Hail',\n",
    "                                                     'WT05' : 'Hail',\n",
    "                                                     'WT08' : 'Smoke or Haze',\n",
    "                                                     'WT09' : 'Blowing or Drifting Snow',\n",
    "                                                     'WT11' : 'High or Damaging Winds'})\n",
    "\n",
    "# FILLING NAN VALUES WITH ZEROS\n",
    "weather_data_df_cleaned = weather_data_df.fillna(0)\n",
    "\n",
    "# SELECTING ONLY COLUMNS WE WANT AND HAVE CLEANED\n",
    "weather_data_df_cleansed = weather_data_df_cleaned[[\"Name\",\n",
    "                                                    \"Date\",\n",
    "                                                    \"Average Wind Speed\",\n",
    "                                                    \"Multiday Precipitation Total\",\n",
    "                                                    \"Peak Gust Time\",\n",
    "                                                    \"Precipitation\",\n",
    "                                                    \"Daily Percent of Possible Sunshine\",\n",
    "                                                    \"Snowfall\",\n",
    "                                                    \"Snow Depth\",\n",
    "                                                    \"Average Temperature\",\n",
    "                                                    \"Maximum Temperature\",\n",
    "                                                    \"Minimum Temperature\",\n",
    "                                                    \"Temperature at Time of Observation\",\n",
    "                                                    \"Total Sunshine\",\n",
    "                                                    \"Total Wind Movement\",\n",
    "                                                    \"Fog, Ice Fog, or Freezing Fog\",\n",
    "                                                    \"Heavy Fog or Heaving Freezing Fog\",\n",
    "                                                    \"Thunder\",\n",
    "                                                    \"Ice pellets, Sleet, Snow Pellets, or Small Hail\",\n",
    "                                                    \"Hail\",\n",
    "                                                    \"Smoke or Haze\",\n",
    "                                                    \"Blowing or Drifting Snow\",\n",
    "                                                    \"High or Damaging Winds\"]]\n"
   ]
  },
  {
   "cell_type": "code",
   "execution_count": null,
   "metadata": {},
   "outputs": [],
   "source": [
    "weather_data_df_cleansed.head()"
   ]
  },
  {
   "cell_type": "code",
   "execution_count": null,
   "metadata": {},
   "outputs": [],
   "source": []
  }
 ],
 "metadata": {
  "kernelspec": {
   "display_name": "Python 3",
   "language": "python",
   "name": "python3"
  },
  "language_info": {
   "codemirror_mode": {
    "name": "ipython",
    "version": 3
   },
   "file_extension": ".py",
   "mimetype": "text/x-python",
   "name": "python",
   "nbconvert_exporter": "python",
   "pygments_lexer": "ipython3",
   "version": "3.7.4"
  }
 },
 "nbformat": 4,
 "nbformat_minor": 4
}
